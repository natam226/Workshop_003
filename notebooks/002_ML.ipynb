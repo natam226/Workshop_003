{
 "cells": [
  {
   "cell_type": "markdown",
   "id": "78b89b06",
   "metadata": {},
   "source": [
    "# **_Machine Learning Model Training_**"
   ]
  },
  {
   "cell_type": "code",
   "execution_count": 166,
   "id": "c22690e9",
   "metadata": {},
   "outputs": [],
   "source": [
    "import pandas as pd\n",
    "from sklearn.preprocessing import StandardScaler, OneHotEncoder\n",
    "from sklearn.model_selection import train_test_split, cross_validate, KFold\n",
    "from sklearn.linear_model import LinearRegression, Ridge\n",
    "from sklearn.ensemble import RandomForestRegressor\n",
    "from xgboost import XGBRegressor\n",
    "from catboost import CatBoostRegressor\n",
    "from sklearn.metrics import make_scorer, mean_squared_error, mean_absolute_error, r2_score\n",
    "from sklearn.compose import ColumnTransformer\n",
    "from sklearn.pipeline import Pipeline\n",
    "import time\n",
    "import numpy as np\n",
    "import joblib\n",
    "import matplotlib.pyplot as plt\n",
    "import seaborn as sns"
   ]
  },
  {
   "cell_type": "markdown",
   "id": "cceed5dc",
   "metadata": {},
   "source": [
    "## **_Data Loading_**"
   ]
  },
  {
   "cell_type": "code",
   "execution_count": 167,
   "id": "5497087f",
   "metadata": {},
   "outputs": [],
   "source": [
    "df = pd.read_csv('../data/happiness_clean_data.csv')"
   ]
  },
  {
   "cell_type": "code",
   "execution_count": 168,
   "id": "d4090af2",
   "metadata": {},
   "outputs": [
    {
     "data": {
      "text/html": [
       "<div>\n",
       "<style scoped>\n",
       "    .dataframe tbody tr th:only-of-type {\n",
       "        vertical-align: middle;\n",
       "    }\n",
       "\n",
       "    .dataframe tbody tr th {\n",
       "        vertical-align: top;\n",
       "    }\n",
       "\n",
       "    .dataframe thead th {\n",
       "        text-align: right;\n",
       "    }\n",
       "</style>\n",
       "<table border=\"1\" class=\"dataframe\">\n",
       "  <thead>\n",
       "    <tr style=\"text-align: right;\">\n",
       "      <th></th>\n",
       "      <th>country</th>\n",
       "      <th>happiness_rank</th>\n",
       "      <th>happiness_score</th>\n",
       "      <th>gdp_per_capita</th>\n",
       "      <th>social_support</th>\n",
       "      <th>life_expectancy</th>\n",
       "      <th>freedom</th>\n",
       "      <th>corruption</th>\n",
       "      <th>generosity</th>\n",
       "      <th>year</th>\n",
       "      <th>region</th>\n",
       "    </tr>\n",
       "  </thead>\n",
       "  <tbody>\n",
       "    <tr>\n",
       "      <th>0</th>\n",
       "      <td>Switzerland</td>\n",
       "      <td>1</td>\n",
       "      <td>7.587</td>\n",
       "      <td>1.39651</td>\n",
       "      <td>1.34951</td>\n",
       "      <td>0.94143</td>\n",
       "      <td>0.66557</td>\n",
       "      <td>0.41978</td>\n",
       "      <td>0.29678</td>\n",
       "      <td>2015</td>\n",
       "      <td>Western Europe</td>\n",
       "    </tr>\n",
       "    <tr>\n",
       "      <th>1</th>\n",
       "      <td>Iceland</td>\n",
       "      <td>2</td>\n",
       "      <td>7.561</td>\n",
       "      <td>1.30232</td>\n",
       "      <td>1.40223</td>\n",
       "      <td>0.94784</td>\n",
       "      <td>0.62877</td>\n",
       "      <td>0.14145</td>\n",
       "      <td>0.43630</td>\n",
       "      <td>2015</td>\n",
       "      <td>Western Europe</td>\n",
       "    </tr>\n",
       "    <tr>\n",
       "      <th>2</th>\n",
       "      <td>Denmark</td>\n",
       "      <td>3</td>\n",
       "      <td>7.527</td>\n",
       "      <td>1.32548</td>\n",
       "      <td>1.36058</td>\n",
       "      <td>0.87464</td>\n",
       "      <td>0.64938</td>\n",
       "      <td>0.48357</td>\n",
       "      <td>0.34139</td>\n",
       "      <td>2015</td>\n",
       "      <td>Western Europe</td>\n",
       "    </tr>\n",
       "    <tr>\n",
       "      <th>3</th>\n",
       "      <td>Norway</td>\n",
       "      <td>4</td>\n",
       "      <td>7.522</td>\n",
       "      <td>1.45900</td>\n",
       "      <td>1.33095</td>\n",
       "      <td>0.88521</td>\n",
       "      <td>0.66973</td>\n",
       "      <td>0.36503</td>\n",
       "      <td>0.34699</td>\n",
       "      <td>2015</td>\n",
       "      <td>Western Europe</td>\n",
       "    </tr>\n",
       "    <tr>\n",
       "      <th>4</th>\n",
       "      <td>Canada</td>\n",
       "      <td>5</td>\n",
       "      <td>7.427</td>\n",
       "      <td>1.32629</td>\n",
       "      <td>1.32261</td>\n",
       "      <td>0.90563</td>\n",
       "      <td>0.63297</td>\n",
       "      <td>0.32957</td>\n",
       "      <td>0.45811</td>\n",
       "      <td>2015</td>\n",
       "      <td>North America</td>\n",
       "    </tr>\n",
       "  </tbody>\n",
       "</table>\n",
       "</div>"
      ],
      "text/plain": [
       "       country  happiness_rank  happiness_score  gdp_per_capita  \\\n",
       "0  Switzerland               1            7.587         1.39651   \n",
       "1      Iceland               2            7.561         1.30232   \n",
       "2      Denmark               3            7.527         1.32548   \n",
       "3       Norway               4            7.522         1.45900   \n",
       "4       Canada               5            7.427         1.32629   \n",
       "\n",
       "   social_support  life_expectancy  freedom  corruption  generosity  year  \\\n",
       "0         1.34951          0.94143  0.66557     0.41978     0.29678  2015   \n",
       "1         1.40223          0.94784  0.62877     0.14145     0.43630  2015   \n",
       "2         1.36058          0.87464  0.64938     0.48357     0.34139  2015   \n",
       "3         1.33095          0.88521  0.66973     0.36503     0.34699  2015   \n",
       "4         1.32261          0.90563  0.63297     0.32957     0.45811  2015   \n",
       "\n",
       "           region  \n",
       "0  Western Europe  \n",
       "1  Western Europe  \n",
       "2  Western Europe  \n",
       "3  Western Europe  \n",
       "4   North America  "
      ]
     },
     "execution_count": 168,
     "metadata": {},
     "output_type": "execute_result"
    }
   ],
   "source": [
    "df.head()"
   ]
  },
  {
   "cell_type": "markdown",
   "id": "28e9790a",
   "metadata": {},
   "source": [
    "## **_Preprocessing_**"
   ]
  },
  {
   "cell_type": "code",
   "execution_count": 169,
   "id": "3aa5a349",
   "metadata": {},
   "outputs": [],
   "source": [
    "df = df.drop(columns=['region', 'happiness_rank', 'year', 'generosity'])\n",
    "\n",
    "categorical_features = ['country']\n",
    "numeric_features = ['gdp_per_capita', 'social_support', 'life_expectancy', 'freedom', 'corruption']\n",
    "target = 'happiness_score'"
   ]
  },
  {
   "cell_type": "markdown",
   "id": "33b94345",
   "metadata": {},
   "source": [
    "## **_Data Splitting_**"
   ]
  },
  {
   "cell_type": "code",
   "execution_count": 170,
   "id": "130fc1ad",
   "metadata": {},
   "outputs": [],
   "source": [
    "X = df.drop(columns=['happiness_score'], axis=1)\n",
    "y = df[target]"
   ]
  },
  {
   "cell_type": "code",
   "execution_count": 171,
   "id": "0da05017",
   "metadata": {},
   "outputs": [],
   "source": [
    "X_train, X_test, y_train, y_test = train_test_split(X, y, test_size=0.2, random_state=1425)"
   ]
  },
  {
   "cell_type": "markdown",
   "id": "e5c0fe0b",
   "metadata": {},
   "source": [
    "## **_Model Training_**"
   ]
  },
  {
   "cell_type": "code",
   "execution_count": 172,
   "id": "de55686f",
   "metadata": {},
   "outputs": [],
   "source": [
    "preprocessor = ColumnTransformer(\n",
    "    transformers=[\n",
    "        ('num', StandardScaler(), numeric_features),\n",
    "        ('cat', OneHotEncoder(handle_unknown='ignore'), categorical_features)\n",
    "    ]\n",
    ")"
   ]
  },
  {
   "cell_type": "code",
   "execution_count": 173,
   "id": "58447abe",
   "metadata": {},
   "outputs": [],
   "source": [
    "models = {\n",
    "    'Linear Regression': LinearRegression(),\n",
    "    'Ridge Regression': Ridge(),\n",
    "    'Random Forest': RandomForestRegressor(random_state=1425),\n",
    "    'XGBoost': XGBRegressor(random_state=1425),\n",
    "    'CatBoost': CatBoostRegressor(verbose=0, random_state=1425)\n",
    "}"
   ]
  },
  {
   "cell_type": "code",
   "execution_count": 174,
   "id": "9f46cf62",
   "metadata": {},
   "outputs": [
    {
     "name": "stdout",
     "output_type": "stream",
     "text": [
      "Training Model: Linear Regression\n",
      "Training Model: Ridge Regression\n",
      "Training Model: Random Forest\n",
      "Training Model: XGBoost\n",
      "Training Model: CatBoost\n"
     ]
    }
   ],
   "source": [
    "cv = KFold(n_splits=5, shuffle=True, random_state=1425)\n",
    "\n",
    "scoring = {\n",
    "    'r2': 'r2',\n",
    "    'rmse': make_scorer(lambda y_true, y_pred: np.sqrt(mean_squared_error(y_true, y_pred))),\n",
    "    'mae': make_scorer(mean_absolute_error)\n",
    "}\n",
    "\n",
    "\n",
    "metrics = []\n",
    "\n",
    "for name, model in models.items():\n",
    "    print(f\"Training Model: {name}\")\n",
    "    \n",
    "    pipeline = Pipeline([\n",
    "        ('preprocessing', preprocessor),\n",
    "        ('regressor', model)\n",
    "    ])\n",
    "    \n",
    "    start = time.time()\n",
    "    scores = cross_validate(pipeline, X_train, y_train, cv=cv, scoring=scoring, return_train_score=True)\n",
    "    elapsed = time.time() - start\n",
    "\n",
    "    metrics.append({\n",
    "        'Model': name,\n",
    "        'R2': round(np.mean(scores['test_r2']), 4),\n",
    "        'RMSE': round(np.mean(scores['test_rmse']), 4),\n",
    "        'MAE': round(np.mean(scores['test_mae']), 4),\n",
    "        'Time (s)': round(elapsed, 2),\n",
    "        'Train R2 mean': np.mean(scores['train_r2']),\n",
    "        'Test R2 mean': np.mean(scores['test_r2'])\n",
    "    })"
   ]
  },
  {
   "cell_type": "code",
   "execution_count": 175,
   "id": "edfb4cf1",
   "metadata": {},
   "outputs": [
    {
     "name": "stdout",
     "output_type": "stream",
     "text": [
      "\n",
      "Model Results:\n"
     ]
    },
    {
     "data": {
      "text/html": [
       "<div>\n",
       "<style scoped>\n",
       "    .dataframe tbody tr th:only-of-type {\n",
       "        vertical-align: middle;\n",
       "    }\n",
       "\n",
       "    .dataframe tbody tr th {\n",
       "        vertical-align: top;\n",
       "    }\n",
       "\n",
       "    .dataframe thead th {\n",
       "        text-align: right;\n",
       "    }\n",
       "</style>\n",
       "<table border=\"1\" class=\"dataframe\">\n",
       "  <thead>\n",
       "    <tr style=\"text-align: right;\">\n",
       "      <th></th>\n",
       "      <th>Model</th>\n",
       "      <th>R2</th>\n",
       "      <th>RMSE</th>\n",
       "      <th>MAE</th>\n",
       "      <th>Time (s)</th>\n",
       "      <th>Train R2 mean</th>\n",
       "      <th>Test R2 mean</th>\n",
       "    </tr>\n",
       "  </thead>\n",
       "  <tbody>\n",
       "    <tr>\n",
       "      <th>0</th>\n",
       "      <td>Linear Regression</td>\n",
       "      <td>0.9252</td>\n",
       "      <td>0.3074</td>\n",
       "      <td>0.2099</td>\n",
       "      <td>0.22</td>\n",
       "      <td>0.972675</td>\n",
       "      <td>0.925224</td>\n",
       "    </tr>\n",
       "    <tr>\n",
       "      <th>1</th>\n",
       "      <td>Ridge Regression</td>\n",
       "      <td>0.9127</td>\n",
       "      <td>0.3315</td>\n",
       "      <td>0.2516</td>\n",
       "      <td>0.10</td>\n",
       "      <td>0.951942</td>\n",
       "      <td>0.912681</td>\n",
       "    </tr>\n",
       "    <tr>\n",
       "      <th>4</th>\n",
       "      <td>CatBoost</td>\n",
       "      <td>0.8915</td>\n",
       "      <td>0.3692</td>\n",
       "      <td>0.2893</td>\n",
       "      <td>4.98</td>\n",
       "      <td>0.969648</td>\n",
       "      <td>0.891451</td>\n",
       "    </tr>\n",
       "    <tr>\n",
       "      <th>3</th>\n",
       "      <td>XGBoost</td>\n",
       "      <td>0.8618</td>\n",
       "      <td>0.4170</td>\n",
       "      <td>0.3237</td>\n",
       "      <td>0.60</td>\n",
       "      <td>0.994613</td>\n",
       "      <td>0.861790</td>\n",
       "    </tr>\n",
       "    <tr>\n",
       "      <th>2</th>\n",
       "      <td>Random Forest</td>\n",
       "      <td>0.8353</td>\n",
       "      <td>0.4519</td>\n",
       "      <td>0.3508</td>\n",
       "      <td>2.34</td>\n",
       "      <td>0.977343</td>\n",
       "      <td>0.835313</td>\n",
       "    </tr>\n",
       "  </tbody>\n",
       "</table>\n",
       "</div>"
      ],
      "text/plain": [
       "               Model      R2    RMSE     MAE  Time (s)  Train R2 mean  \\\n",
       "0  Linear Regression  0.9252  0.3074  0.2099      0.22       0.972675   \n",
       "1   Ridge Regression  0.9127  0.3315  0.2516      0.10       0.951942   \n",
       "4           CatBoost  0.8915  0.3692  0.2893      4.98       0.969648   \n",
       "3            XGBoost  0.8618  0.4170  0.3237      0.60       0.994613   \n",
       "2      Random Forest  0.8353  0.4519  0.3508      2.34       0.977343   \n",
       "\n",
       "   Test R2 mean  \n",
       "0      0.925224  \n",
       "1      0.912681  \n",
       "4      0.891451  \n",
       "3      0.861790  \n",
       "2      0.835313  "
      ]
     },
     "execution_count": 175,
     "metadata": {},
     "output_type": "execute_result"
    }
   ],
   "source": [
    "results_df = pd.DataFrame(metrics).sort_values(by='R2', ascending=False)\n",
    "\n",
    "print(\"\\nModel Results:\")\n",
    "results_df.head()"
   ]
  },
  {
   "cell_type": "code",
   "execution_count": 176,
   "id": "8106ec15",
   "metadata": {},
   "outputs": [],
   "source": [
    "pipeline_lr = Pipeline([\n",
    "    ('preprocessing', preprocessor),\n",
    "    ('regressor', LinearRegression())\n",
    "])\n",
    "\n",
    "pipeline_lr.fit(X_train, y_train);"
   ]
  },
  {
   "cell_type": "code",
   "execution_count": 177,
   "id": "b37cd820",
   "metadata": {},
   "outputs": [
    {
     "name": "stdout",
     "output_type": "stream",
     "text": [
      "\n",
      "EVALUACIÓN FINAL en el 20% de TEST:\n",
      " R2: 0.9352\n",
      " MAE: 0.1882\n",
      " RMSE: 0.2832\n"
     ]
    }
   ],
   "source": [
    "y_pred_test = pipeline_lr.predict(X_test)\n",
    "r2_test = r2_score(y_test, y_pred_test)\n",
    "mae_test = mean_absolute_error(y_test, y_pred_test)\n",
    "rmse_test = np.sqrt(mean_squared_error(y_test, y_pred_test))\n",
    "\n",
    "print(f\"\\nEVALUACIÓN FINAL en el 20% de TEST:\")\n",
    "print(f\" R2: {r2_test:.4f}\")\n",
    "print(f\" MAE: {mae_test:.4f}\")\n",
    "print(f\" RMSE: {rmse_test:.4f}\")"
   ]
  },
  {
   "cell_type": "code",
   "execution_count": 178,
   "id": "42be36a3",
   "metadata": {},
   "outputs": [
    {
     "data": {
      "image/png": "[encoded data removed]",
      "text/plain": [
       "<Figure size 600x600 with 1 Axes>"
      ]
     },
     "metadata": {},
     "output_type": "display_data"
    }
   ],
   "source": [
    "plt.figure(figsize=(6,6))\n",
    "sns.scatterplot(x=y_test, y=y_pred_test, alpha=0.7)\n",
    "plt.xlabel(\"Valor Real\")\n",
    "plt.ylabel(\"Predicción\")\n",
    "plt.title(\"Predicciones vs Reales (Linear Regression)\")\n",
    "plt.plot([y_test.min(), y_test.max()], [y_test.min(), y_test.max()], 'k--')\n",
    "plt.show()"
   ]
  },
  {
   "cell_type": "code",
   "execution_count": 179,
   "id": "f6496a32",
   "metadata": {},
   "outputs": [
    {
     "name": "stdout",
     "output_type": "stream",
     "text": [
      "Modelo fue guardado como 'trained_model.pkl'\n"
     ]
    }
   ],
   "source": [
    "joblib.dump(pipeline_lr, '../models/trained_model.pkl')\n",
    "\n",
    "print(\"Modelo fue guardado como 'trained_model.pkl'\")"
   ]
  }
 ],
 "metadata": {
  "kernelspec": {
   "display_name": "venv",
   "language": "python",
   "name": "python3"
  },
  "language_info": {
   "codemirror_mode": {
    "name": "ipython",
    "version": 3
   },
   "file_extension": ".py",
   "mimetype": "text/x-python",
   "name": "python",
   "nbconvert_exporter": "python",
   "pygments_lexer": "ipython3",
   "version": "3.12.3"
  }
 },
 "nbformat": 4,
 "nbformat_minor": 5
}
