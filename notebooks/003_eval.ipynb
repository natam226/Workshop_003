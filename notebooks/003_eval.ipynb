{
 "cells": [
  {
   "cell_type": "code",
   "execution_count": 8,
   "id": "b413b324",
   "metadata": {},
   "outputs": [],
   "source": [
    "import json\n",
    "from sqlalchemy import create_engine\n",
    "import pandas as pd\n",
    "from sklearn.metrics import r2_score"
   ]
  },
  {
   "cell_type": "code",
   "execution_count": 9,
   "id": "751f11fb",
   "metadata": {},
   "outputs": [],
   "source": [
    "with open(\"../credentials.json\", \"r\", encoding = \"utf-8\") as f:\n",
    "    credentials = json.load(f)\n",
    "\n",
    "db_host = credentials[\"host\"]\n",
    "db_name = credentials[\"dbname\"]\n",
    "db_user = credentials[\"user\"]\n",
    "db_password = credentials[\"password\"]\n",
    "\n",
    "db_engine = create_engine(f\"postgresql://{db_user}:{db_password}@{db_host}:5432/{db_name}\")"
   ]
  },
  {
   "cell_type": "code",
   "execution_count": 10,
   "id": "d8c4117b",
   "metadata": {},
   "outputs": [
    {
     "data": {
      "text/html": [
       "<div>\n",
       "<style scoped>\n",
       "    .dataframe tbody tr th:only-of-type {\n",
       "        vertical-align: middle;\n",
       "    }\n",
       "\n",
       "    .dataframe tbody tr th {\n",
       "        vertical-align: top;\n",
       "    }\n",
       "\n",
       "    .dataframe thead th {\n",
       "        text-align: right;\n",
       "    }\n",
       "</style>\n",
       "<table border=\"1\" class=\"dataframe\">\n",
       "  <thead>\n",
       "    <tr style=\"text-align: right;\">\n",
       "      <th></th>\n",
       "      <th>gdp_per_capita</th>\n",
       "      <th>social_support</th>\n",
       "      <th>life_expectancy</th>\n",
       "      <th>freedom</th>\n",
       "      <th>corruption</th>\n",
       "      <th>region</th>\n",
       "      <th>y_real</th>\n",
       "      <th>y_pred</th>\n",
       "    </tr>\n",
       "  </thead>\n",
       "  <tbody>\n",
       "    <tr>\n",
       "      <th>0</th>\n",
       "      <td>1.222556</td>\n",
       "      <td>0.967983</td>\n",
       "      <td>0.701289</td>\n",
       "      <td>0.255772</td>\n",
       "      <td>0.043103</td>\n",
       "      <td>Central and Eastern Europe</td>\n",
       "      <td>5.293</td>\n",
       "      <td>5.654884</td>\n",
       "    </tr>\n",
       "    <tr>\n",
       "      <th>1</th>\n",
       "      <td>0.562000</td>\n",
       "      <td>0.928000</td>\n",
       "      <td>0.723000</td>\n",
       "      <td>0.527000</td>\n",
       "      <td>0.143000</td>\n",
       "      <td>Southern Asia</td>\n",
       "      <td>4.456</td>\n",
       "      <td>4.636953</td>\n",
       "    </tr>\n",
       "    <tr>\n",
       "      <th>2</th>\n",
       "      <td>0.350000</td>\n",
       "      <td>0.517000</td>\n",
       "      <td>0.361000</td>\n",
       "      <td>0.000000</td>\n",
       "      <td>0.025000</td>\n",
       "      <td>Southern Asia</td>\n",
       "      <td>3.203</td>\n",
       "      <td>3.471547</td>\n",
       "    </tr>\n",
       "    <tr>\n",
       "      <th>3</th>\n",
       "      <td>1.034000</td>\n",
       "      <td>1.441000</td>\n",
       "      <td>0.963000</td>\n",
       "      <td>0.558000</td>\n",
       "      <td>0.093000</td>\n",
       "      <td>Latin America and Caribbean</td>\n",
       "      <td>7.167</td>\n",
       "      <td>6.485261</td>\n",
       "    </tr>\n",
       "    <tr>\n",
       "      <th>4</th>\n",
       "      <td>1.290980</td>\n",
       "      <td>1.076170</td>\n",
       "      <td>0.875300</td>\n",
       "      <td>0.397400</td>\n",
       "      <td>0.081290</td>\n",
       "      <td>Eastern Asia</td>\n",
       "      <td>6.298</td>\n",
       "      <td>6.288126</td>\n",
       "    </tr>\n",
       "  </tbody>\n",
       "</table>\n",
       "</div>"
      ],
      "text/plain": [
       "   gdp_per_capita  social_support  life_expectancy   freedom  corruption  \\\n",
       "0        1.222556        0.967983         0.701289  0.255772    0.043103   \n",
       "1        0.562000        0.928000         0.723000  0.527000    0.143000   \n",
       "2        0.350000        0.517000         0.361000  0.000000    0.025000   \n",
       "3        1.034000        1.441000         0.963000  0.558000    0.093000   \n",
       "4        1.290980        1.076170         0.875300  0.397400    0.081290   \n",
       "\n",
       "                        region  y_real    y_pred  \n",
       "0   Central and Eastern Europe   5.293  5.654884  \n",
       "1                Southern Asia   4.456  4.636953  \n",
       "2                Southern Asia   3.203  3.471547  \n",
       "3  Latin America and Caribbean   7.167  6.485261  \n",
       "4                 Eastern Asia   6.298  6.288126  "
      ]
     },
     "execution_count": 10,
     "metadata": {},
     "output_type": "execute_result"
    }
   ],
   "source": [
    "query = \"SELECT * FROM predictions;\"\n",
    "df_ml = pd.read_sql(query, db_engine)\n",
    "df_ml.head()"
   ]
  },
  {
   "cell_type": "code",
   "execution_count": 11,
   "id": "3a7682fa",
   "metadata": {},
   "outputs": [
    {
     "name": "stdout",
     "output_type": "stream",
     "text": [
      "R²: 0.8566\n"
     ]
    }
   ],
   "source": [
    "r_squared = r2_score(df_ml['y_real'], df_ml['y_pred'])\n",
    "print(f\"R²: {r_squared:.4f}\")"
   ]
  }
 ],
 "metadata": {
  "kernelspec": {
   "display_name": "venv",
   "language": "python",
   "name": "python3"
  },
  "language_info": {
   "codemirror_mode": {
    "name": "ipython",
    "version": 3
   },
   "file_extension": ".py",
   "mimetype": "text/x-python",
   "name": "python",
   "nbconvert_exporter": "python",
   "pygments_lexer": "ipython3",
   "version": "3.12.3"
  }
 },
 "nbformat": 4,
 "nbformat_minor": 5
}
